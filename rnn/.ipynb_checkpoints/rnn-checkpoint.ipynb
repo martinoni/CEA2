{
 "cells": [
  {
   "cell_type": "code",
   "execution_count": 2,
   "metadata": {},
   "outputs": [
    {
     "name": "stderr",
     "output_type": "stream",
     "text": [
      "Using TensorFlow backend.\n"
     ]
    }
   ],
   "source": [
    "from keras.models import Sequential\n",
    "from keras.layers import Dense\n",
    "from keras.layers import LSTM\n",
    "from keras.models import load_model\n",
    "import keras.optimizers\n",
    "import sklearn.preprocessing\n",
    "from sklearn.model_selection import train_test_split\n",
    "import numpy as np\n",
    "import pandas as pd \n",
    "import matplotlib.pyplot as plt\n",
    "import csv\n",
    "import random"
   ]
  },
  {
   "cell_type": "code",
   "execution_count": 3,
   "metadata": {},
   "outputs": [],
   "source": [
    "#Data preparation"
   ]
  },
  {
   "cell_type": "code",
   "execution_count": 4,
   "metadata": {},
   "outputs": [],
   "source": [
    "Data = []\n",
    "with open('../data_dim.csv') as csvfile:\n",
    "    reader = csv.reader(csvfile, quoting=csv.QUOTE_NONNUMERIC) # change contents to floats\n",
    "    for row in reader: # each row is a list\n",
    "        Data.append(row)\n",
    "\n",
    "for row in Data[1:]:\n",
    "    row.pop(0)\n",
    "    row[::2] = [x / 105 for x in [float(i) for i in row[::2]]]\n",
    "    row[1::2] = [x / 68 for x in [float(i) for i in row[1::2]]]\n",
    "    \n",
    "\n",
    "\n",
    "x = []\n",
    "y = []\n",
    "\n",
    "for i in range(1, len(Data)-2):\n",
    "    x.append([Data[i]])\n",
    "    y.append([Data[i+1]])\n",
    "    \n",
    "Data = x\n",
    "target = y"
   ]
  },
  {
   "cell_type": "code",
   "execution_count": 5,
   "metadata": {},
   "outputs": [],
   "source": [
    "data = np.array(Data, dtype=float)\n",
    "target = np.array(target, dtype=float)"
   ]
  },
  {
   "cell_type": "code",
   "execution_count": 6,
   "metadata": {},
   "outputs": [
    {
     "data": {
      "text/plain": [
       "(22140, 1, 46)"
      ]
     },
     "execution_count": 6,
     "metadata": {},
     "output_type": "execute_result"
    }
   ],
   "source": [
    "data.shape"
   ]
  },
  {
   "cell_type": "code",
   "execution_count": 7,
   "metadata": {},
   "outputs": [
    {
     "data": {
      "text/plain": [
       "(22140, 1, 46)"
      ]
     },
     "execution_count": 7,
     "metadata": {},
     "output_type": "execute_result"
    }
   ],
   "source": [
    "target.shape"
   ]
  },
  {
   "cell_type": "code",
   "execution_count": 8,
   "metadata": {},
   "outputs": [],
   "source": [
    "x_train,x_test,y_train,y_test = train_test_split(data, target, test_size=0.2, random_state=4)"
   ]
  },
  {
   "cell_type": "code",
   "execution_count": 22,
   "metadata": {},
   "outputs": [],
   "source": [
    "#RNN"
   ]
  },
  {
   "cell_type": "code",
   "execution_count": 23,
   "metadata": {},
   "outputs": [],
   "source": [
    "model = Sequential()"
   ]
  },
  {
   "cell_type": "code",
   "execution_count": 24,
   "metadata": {},
   "outputs": [],
   "source": [
    "model.add(LSTM((46), batch_input_shape=(None, 1, 46), return_sequences=True, activation='softmax'))\n",
    "model.add(LSTM((46), batch_input_shape=(None, 1, 46), return_sequences=True, activation=None))\n",
    "model.add(LSTM((46), batch_input_shape=(None, 1, 46), return_sequences=True, activation='tanh'))\n",
    "model.add(LSTM((46), batch_input_shape=(None, 1, 46), return_sequences=True))\n",
    "model.add(LSTM((46), batch_input_shape=(None, 1, 46), return_sequences=True))\n",
    "model.add(LSTM((46), batch_input_shape=(None, 1, 46), return_sequences=True))"
   ]
  },
  {
   "cell_type": "code",
   "execution_count": 25,
   "metadata": {},
   "outputs": [],
   "source": [
    "adam = keras.optimizers.Adamax(lr = 0.00001)"
   ]
  },
  {
   "cell_type": "code",
   "execution_count": 26,
   "metadata": {},
   "outputs": [],
   "source": [
    "model.compile(loss='mean_absolute_error', optimizer=adam, metrics=['accuracy'])"
   ]
  },
  {
   "cell_type": "code",
   "execution_count": 27,
   "metadata": {},
   "outputs": [
    {
     "name": "stdout",
     "output_type": "stream",
     "text": [
      "_________________________________________________________________\n",
      "Layer (type)                 Output Shape              Param #   \n",
      "=================================================================\n",
      "lstm_17 (LSTM)               (None, 1, 46)             17112     \n",
      "_________________________________________________________________\n",
      "lstm_18 (LSTM)               (None, 1, 46)             17112     \n",
      "_________________________________________________________________\n",
      "lstm_19 (LSTM)               (None, 1, 46)             17112     \n",
      "_________________________________________________________________\n",
      "lstm_20 (LSTM)               (None, 1, 46)             17112     \n",
      "_________________________________________________________________\n",
      "lstm_21 (LSTM)               (None, 1, 46)             17112     \n",
      "_________________________________________________________________\n",
      "lstm_22 (LSTM)               (None, 1, 46)             17112     \n",
      "=================================================================\n",
      "Total params: 102,672\n",
      "Trainable params: 102,672\n",
      "Non-trainable params: 0\n",
      "_________________________________________________________________\n"
     ]
    }
   ],
   "source": [
    "model.summary()"
   ]
  },
  {
   "cell_type": "code",
   "execution_count": null,
   "metadata": {},
   "outputs": [
    {
     "name": "stdout",
     "output_type": "stream",
     "text": [
      "Train on 17712 samples, validate on 4428 samples\n",
      "Epoch 1/10000\n",
      "17712/17712 [==============================] - 7s 412us/step - loss: 0.4720 - acc: 0.0010 - val_loss: 0.4702 - val_acc: 0.0000e+00\n",
      "Epoch 2/10000\n",
      "17712/17712 [==============================] - 4s 199us/step - loss: 0.4702 - acc: 0.0000e+00 - val_loss: 0.4683 - val_acc: 0.0000e+00\n",
      "Epoch 3/10000\n",
      " 1696/17712 [=>............................] - ETA: 3s - loss: 0.4705 - acc: 0.0000e+00"
     ]
    }
   ],
   "source": [
    "history = model.fit(x_train, y_train, epochs=10000, validation_data=(x_test, y_test))"
   ]
  },
  {
   "cell_type": "code",
   "execution_count": null,
   "metadata": {},
   "outputs": [],
   "source": [
    "#model.save('rnn_LSTM_2L_sofmax_None.h5')\n",
    "#model = load_model('rnn_LSTM_2L_sofmax_None.h5')"
   ]
  },
  {
   "cell_type": "code",
   "execution_count": null,
   "metadata": {},
   "outputs": [],
   "source": [
    "results = model.predict(x_test)"
   ]
  },
  {
   "cell_type": "code",
   "execution_count": null,
   "metadata": {},
   "outputs": [],
   "source": [
    "plt.plot(history.history['loss'])\n",
    "plt.show()"
   ]
  },
  {
   "cell_type": "code",
   "execution_count": null,
   "metadata": {},
   "outputs": [],
   "source": [
    "print(results.shape)\n",
    "print(y_test.shape)"
   ]
  },
  {
   "cell_type": "code",
   "execution_count": null,
   "metadata": {},
   "outputs": [],
   "source": [
    "plt.scatter(x_test, results, c='r')\n",
    "plt.scatter(x_test, y_test, c='g')\n",
    "plt.show()"
   ]
  },
  {
   "cell_type": "code",
   "execution_count": null,
   "metadata": {},
   "outputs": [],
   "source": [
    "start = []\n",
    "for i in range(23):\n",
    "    x_rand = random.uniform(0, 1)\n",
    "    y_rand = random.uniform(0, 68/105)\n",
    "    start.append(x_rand)\n",
    "    start.append(y_rand)\n",
    "    \n",
    "start = data[1]\n",
    "start = np.array(start)\n",
    "start = np.reshape(start, (1, 1, 46))\n",
    "\n",
    "jogo_simulado = [start]\n",
    "next_step = start\n",
    "for i in range(5000):\n",
    "    next_step = model.predict(next_step)\n",
    "    jogo_simulado.append(next_step)\n",
    "\n",
    "jogo_simulado = np.array(jogo_simulado)\n",
    "jogo_simulado = np.reshape(jogo_simulado, (5001, 46))\n",
    "print(jogo_simulado.shape)  "
   ]
  },
  {
   "cell_type": "code",
   "execution_count": null,
   "metadata": {},
   "outputs": [],
   "source": [
    "np.savetxt('jogo_simulado.txt', jogo_simulado, delimiter=',')"
   ]
  },
  {
   "cell_type": "code",
   "execution_count": null,
   "metadata": {},
   "outputs": [],
   "source": [
    "np.min(jogo_simulado)"
   ]
  },
  {
   "cell_type": "code",
   "execution_count": null,
   "metadata": {},
   "outputs": [],
   "source": []
  }
 ],
 "metadata": {
  "kernelspec": {
   "display_name": "Python 3",
   "language": "python",
   "name": "python3"
  },
  "language_info": {
   "codemirror_mode": {
    "name": "ipython",
    "version": 3
   },
   "file_extension": ".py",
   "mimetype": "text/x-python",
   "name": "python",
   "nbconvert_exporter": "python",
   "pygments_lexer": "ipython3",
   "version": "3.7.4"
  }
 },
 "nbformat": 4,
 "nbformat_minor": 2
}
