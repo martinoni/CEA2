{
 "cells": [
  {
   "cell_type": "code",
   "execution_count": null,
   "metadata": {
    "scrolled": true
   },
   "outputs": [],
   "source": [
    "from keras.models import Sequential, Model\n",
    "from keras.layers import Dense, Input, Activation\n",
    "from keras.layers import LSTM\n",
    "from keras.layers import Bidirectional\n",
    "from keras.layers import TimeDistributed\n",
    "from keras.models import load_model\n",
    "from sklearn.preprocessing import scale\n",
    "import keras.layers\n",
    "import keras.optimizers\n",
    "from sklearn import preprocessing\n",
    "from sklearn.model_selection import train_test_split\n",
    "import numpy as np\n",
    "import pandas as pd \n",
    "import matplotlib.pyplot as plt\n",
    "import csv\n",
    "import random"
   ]
  },
  {
   "cell_type": "code",
   "execution_count": null,
   "metadata": {},
   "outputs": [],
   "source": [
    "#Data preparation"
   ]
  },
  {
   "cell_type": "code",
   "execution_count": null,
   "metadata": {},
   "outputs": [],
   "source": [
    "Data = pd.read_csv('/home/thiago/Development/IME/cea2/data_dim_nova.csv').iloc[:, 8:54]\n",
    "Data = Data.fillna(method='ffill')"
   ]
  },
  {
   "cell_type": "code",
   "execution_count": null,
   "metadata": {},
   "outputs": [],
   "source": [
    "Data.describe()"
   ]
  },
  {
   "cell_type": "code",
   "execution_count": null,
   "metadata": {},
   "outputs": [],
   "source": [
    "min_max_scaler = preprocessing.MinMaxScaler()\n",
    "Data_scaled = min_max_scaler.fit_transform(Data)\n",
    "Data_scaled = pd.DataFrame(Data_scaled)"
   ]
  },
  {
   "cell_type": "code",
   "execution_count": null,
   "metadata": {},
   "outputs": [],
   "source": [
    "Data_scaled.describe()"
   ]
  },
  {
   "cell_type": "code",
   "execution_count": 12,
   "metadata": {},
   "outputs": [
    {
     "name": "stdout",
     "output_type": "stream",
     "text": [
      "(22141, 1, 46)\n",
      "(22141, 1, 46)\n"
     ]
    },
    {
     "name": "stderr",
     "output_type": "stream",
     "text": [
      "/home/thiago/anaconda3/lib/python3.7/site-packages/ipykernel_launcher.py:1: FutureWarning: Method .as_matrix will be removed in a future version. Use .values instead.\n",
      "  \"\"\"Entry point for launching an IPython kernel.\n",
      "/home/thiago/anaconda3/lib/python3.7/site-packages/ipykernel_launcher.py:2: FutureWarning: Method .as_matrix will be removed in a future version. Use .values instead.\n",
      "  \n"
     ]
    }
   ],
   "source": [
    "X = Data_scaled.as_matrix()[:22141, :].reshape((22141, 1, 46))\n",
    "Y = Data_scaled.as_matrix()[1:, :].reshape((22141, 1, 46))\n",
    "print(X.shape)\n",
    "print(Y.shape)"
   ]
  },
  {
   "cell_type": "code",
   "execution_count": 13,
   "metadata": {},
   "outputs": [],
   "source": [
    "x_train,x_test,y_train,y_test = train_test_split(X, Y, test_size=0.1, random_state=4)"
   ]
  },
  {
   "cell_type": "code",
   "execution_count": 14,
   "metadata": {},
   "outputs": [],
   "source": [
    "#RNN"
   ]
  },
  {
   "cell_type": "code",
   "execution_count": 15,
   "metadata": {},
   "outputs": [],
   "source": [
    "def simular(input_shape, hidden_size = 128):\n",
    "    inputs = Input(input_shape)\n",
    "    X = Bidirectional(LSTM(hidden_size, return_sequences = True))(inputs)\n",
    "    X = Dense(input_shape[-1])(X)\n",
    "    outputs = Activation('sigmoid')(X)\n",
    "    \n",
    "    model = Model(inputs = inputs, outputs = outputs)\n",
    "    return model\n",
    "    "
   ]
  },
  {
   "cell_type": "code",
   "execution_count": 17,
   "metadata": {},
   "outputs": [
    {
     "name": "stderr",
     "output_type": "stream",
     "text": [
      "W1008 11:40:46.561539 139891957966656 deprecation_wrapper.py:119] From /home/thiago/.local/lib/python3.7/site-packages/keras/backend/tensorflow_backend.py:4138: The name tf.random_uniform is deprecated. Please use tf.random.uniform instead.\n",
      "\n"
     ]
    }
   ],
   "source": [
    "model = simular((1, 46))"
   ]
  },
  {
   "cell_type": "code",
   "execution_count": 18,
   "metadata": {},
   "outputs": [
    {
     "name": "stdout",
     "output_type": "stream",
     "text": [
      "_________________________________________________________________\n",
      "Layer (type)                 Output Shape              Param #   \n",
      "=================================================================\n",
      "input_2 (InputLayer)         (None, 1, 46)             0         \n",
      "_________________________________________________________________\n",
      "bidirectional_2 (Bidirection (None, 1, 256)            179200    \n",
      "_________________________________________________________________\n",
      "dense_1 (Dense)              (None, 1, 46)             11822     \n",
      "_________________________________________________________________\n",
      "activation_1 (Activation)    (None, 1, 46)             0         \n",
      "=================================================================\n",
      "Total params: 191,022\n",
      "Trainable params: 191,022\n",
      "Non-trainable params: 0\n",
      "_________________________________________________________________\n"
     ]
    }
   ],
   "source": [
    "model.summary()"
   ]
  },
  {
   "cell_type": "code",
   "execution_count": 19,
   "metadata": {},
   "outputs": [],
   "source": [
    "adam = keras.optimizers.adam(lr = 0.0001)"
   ]
  },
  {
   "cell_type": "code",
   "execution_count": 20,
   "metadata": {},
   "outputs": [
    {
     "name": "stderr",
     "output_type": "stream",
     "text": [
      "W1008 11:40:50.476387 139891957966656 deprecation_wrapper.py:119] From /home/thiago/.local/lib/python3.7/site-packages/keras/optimizers.py:790: The name tf.train.Optimizer is deprecated. Please use tf.compat.v1.train.Optimizer instead.\n",
      "\n"
     ]
    }
   ],
   "source": [
    "model.compile(loss='mean_absolute_error', optimizer=adam, metrics=['accuracy'])"
   ]
  },
  {
   "cell_type": "code",
   "execution_count": 21,
   "metadata": {
    "scrolled": true
   },
   "outputs": [
    {
     "name": "stderr",
     "output_type": "stream",
     "text": [
      "W1008 11:40:56.883421 139891957966656 deprecation.py:323] From /home/thiago/.local/lib/python3.7/site-packages/tensorflow/python/ops/math_grad.py:1250: add_dispatch_support.<locals>.wrapper (from tensorflow.python.ops.array_ops) is deprecated and will be removed in a future version.\n",
      "Instructions for updating:\n",
      "Use tf.where in 2.0, which has the same broadcast rule as np.where\n",
      "W1008 11:40:57.616565 139891957966656 deprecation_wrapper.py:119] From /home/thiago/.local/lib/python3.7/site-packages/keras/backend/tensorflow_backend.py:986: The name tf.assign_add is deprecated. Please use tf.compat.v1.assign_add instead.\n",
      "\n",
      "W1008 11:40:57.698112 139891957966656 deprecation_wrapper.py:119] From /home/thiago/.local/lib/python3.7/site-packages/keras/backend/tensorflow_backend.py:973: The name tf.assign is deprecated. Please use tf.compat.v1.assign instead.\n",
      "\n"
     ]
    },
    {
     "name": "stdout",
     "output_type": "stream",
     "text": [
      "Train on 19926 samples, validate on 2215 samples\n",
      "Epoch 1/50\n",
      "19926/19926 [==============================] - 5s 257us/step - loss: 0.1164 - acc: 0.2419 - val_loss: 0.0874 - val_acc: 0.4018\n",
      "Epoch 2/50\n",
      "19926/19926 [==============================] - 2s 117us/step - loss: 0.0718 - acc: 0.4280 - val_loss: 0.0616 - val_acc: 0.4447\n",
      "Epoch 3/50\n",
      "19926/19926 [==============================] - 2s 118us/step - loss: 0.0565 - acc: 0.4792 - val_loss: 0.0533 - val_acc: 0.4822\n",
      "Epoch 4/50\n",
      "19926/19926 [==============================] - 2s 118us/step - loss: 0.0503 - acc: 0.5086 - val_loss: 0.0481 - val_acc: 0.5047\n",
      "Epoch 5/50\n",
      "19926/19926 [==============================] - 3s 136us/step - loss: 0.0458 - acc: 0.5327 - val_loss: 0.0441 - val_acc: 0.5278\n",
      "Epoch 6/50\n",
      "19926/19926 [==============================] - 3s 132us/step - loss: 0.0423 - acc: 0.5529 - val_loss: 0.0409 - val_acc: 0.5467\n",
      "Epoch 7/50\n",
      "19926/19926 [==============================] - 3s 128us/step - loss: 0.0395 - acc: 0.5655 - val_loss: 0.0383 - val_acc: 0.5553\n",
      "Epoch 8/50\n",
      "19926/19926 [==============================] - 3s 132us/step - loss: 0.0370 - acc: 0.5750 - val_loss: 0.0359 - val_acc: 0.5652\n",
      "Epoch 9/50\n",
      "19926/19926 [==============================] - 3s 130us/step - loss: 0.0347 - acc: 0.5888 - val_loss: 0.0338 - val_acc: 0.5756\n",
      "Epoch 10/50\n",
      "19926/19926 [==============================] - 2s 121us/step - loss: 0.0327 - acc: 0.6090 - val_loss: 0.0318 - val_acc: 0.5892\n",
      "Epoch 11/50\n",
      "19926/19926 [==============================] - 2s 119us/step - loss: 0.0308 - acc: 0.6258 - val_loss: 0.0299 - val_acc: 0.6059\n",
      "Epoch 12/50\n",
      "19926/19926 [==============================] - 2s 121us/step - loss: 0.0290 - acc: 0.6400 - val_loss: 0.0281 - val_acc: 0.6181\n",
      "Epoch 13/50\n",
      "19926/19926 [==============================] - 2s 121us/step - loss: 0.0274 - acc: 0.6537 - val_loss: 0.0266 - val_acc: 0.6244\n",
      "Epoch 14/50\n",
      "19926/19926 [==============================] - 2s 121us/step - loss: 0.0259 - acc: 0.6671 - val_loss: 0.0251 - val_acc: 0.6411\n",
      "Epoch 15/50\n",
      "19926/19926 [==============================] - 3s 132us/step - loss: 0.0244 - acc: 0.6803 - val_loss: 0.0237 - val_acc: 0.6564\n",
      "Epoch 16/50\n",
      "19926/19926 [==============================] - 3s 133us/step - loss: 0.0231 - acc: 0.6954 - val_loss: 0.0224 - val_acc: 0.6718\n",
      "Epoch 17/50\n",
      "19926/19926 [==============================] - 2s 125us/step - loss: 0.0218 - acc: 0.7108 - val_loss: 0.0212 - val_acc: 0.6894\n",
      "Epoch 18/50\n",
      "19926/19926 [==============================] - 2s 123us/step - loss: 0.0207 - acc: 0.7250 - val_loss: 0.0201 - val_acc: 0.6971\n",
      "Epoch 19/50\n",
      "19926/19926 [==============================] - 2s 123us/step - loss: 0.0195 - acc: 0.7461 - val_loss: 0.0190 - val_acc: 0.7305\n",
      "Epoch 20/50\n",
      "19926/19926 [==============================] - 3s 138us/step - loss: 0.0185 - acc: 0.7639 - val_loss: 0.0179 - val_acc: 0.7494\n",
      "Epoch 21/50\n",
      "19926/19926 [==============================] - 3s 144us/step - loss: 0.0175 - acc: 0.7793 - val_loss: 0.0169 - val_acc: 0.7688\n",
      "Epoch 22/50\n",
      "19926/19926 [==============================] - 3s 126us/step - loss: 0.0166 - acc: 0.7943 - val_loss: 0.0161 - val_acc: 0.7828\n",
      "Epoch 23/50\n",
      "19926/19926 [==============================] - 2s 124us/step - loss: 0.0157 - acc: 0.8063 - val_loss: 0.0153 - val_acc: 0.8054\n",
      "Epoch 24/50\n",
      "19926/19926 [==============================] - 3s 128us/step - loss: 0.0150 - acc: 0.8205 - val_loss: 0.0146 - val_acc: 0.8144\n",
      "Epoch 25/50\n",
      "19926/19926 [==============================] - 3s 134us/step - loss: 0.0143 - acc: 0.8323 - val_loss: 0.0139 - val_acc: 0.8239\n",
      "Epoch 26/50\n",
      "19926/19926 [==============================] - 3s 134us/step - loss: 0.0137 - acc: 0.8404 - val_loss: 0.0133 - val_acc: 0.8298\n",
      "Epoch 27/50\n",
      "19926/19926 [==============================] - 3s 136us/step - loss: 0.0132 - acc: 0.8459 - val_loss: 0.0129 - val_acc: 0.8402\n",
      "Epoch 28/50\n",
      "19926/19926 [==============================] - 3s 134us/step - loss: 0.0127 - acc: 0.8518 - val_loss: 0.0124 - val_acc: 0.8479\n",
      "Epoch 29/50\n",
      "19926/19926 [==============================] - 2s 125us/step - loss: 0.0123 - acc: 0.8580 - val_loss: 0.0119 - val_acc: 0.8524\n",
      "Epoch 30/50\n",
      "19926/19926 [==============================] - 3s 146us/step - loss: 0.0119 - acc: 0.8626 - val_loss: 0.0116 - val_acc: 0.8546\n",
      "Epoch 31/50\n",
      "19926/19926 [==============================] - 3s 137us/step - loss: 0.0115 - acc: 0.8665 - val_loss: 0.0112 - val_acc: 0.8609\n",
      "Epoch 32/50\n",
      "19926/19926 [==============================] - 3s 140us/step - loss: 0.0112 - acc: 0.8698 - val_loss: 0.0109 - val_acc: 0.8614\n",
      "Epoch 33/50\n",
      "19926/19926 [==============================] - 3s 135us/step - loss: 0.0108 - acc: 0.8731 - val_loss: 0.0106 - val_acc: 0.8700\n",
      "Epoch 34/50\n",
      "19926/19926 [==============================] - 3s 134us/step - loss: 0.0106 - acc: 0.8737 - val_loss: 0.0103 - val_acc: 0.8704\n",
      "Epoch 35/50\n",
      "19926/19926 [==============================] - 3s 134us/step - loss: 0.0103 - acc: 0.8760 - val_loss: 0.0100 - val_acc: 0.8772\n",
      "Epoch 36/50\n",
      "19926/19926 [==============================] - 3s 135us/step - loss: 0.0101 - acc: 0.8791 - val_loss: 0.0098 - val_acc: 0.8822\n",
      "Epoch 37/50\n",
      "19926/19926 [==============================] - 3s 131us/step - loss: 0.0099 - acc: 0.8809 - val_loss: 0.0097 - val_acc: 0.8664\n",
      "Epoch 38/50\n",
      "19926/19926 [==============================] - 3s 135us/step - loss: 0.0097 - acc: 0.8815 - val_loss: 0.0095 - val_acc: 0.8763\n",
      "Epoch 39/50\n",
      "19926/19926 [==============================] - 3s 132us/step - loss: 0.0096 - acc: 0.8833 - val_loss: 0.0094 - val_acc: 0.8709\n",
      "Epoch 40/50\n",
      "19926/19926 [==============================] - 3s 139us/step - loss: 0.0094 - acc: 0.8834 - val_loss: 0.0093 - val_acc: 0.8722\n",
      "Epoch 41/50\n",
      "19926/19926 [==============================] - 3s 139us/step - loss: 0.0093 - acc: 0.8835 - val_loss: 0.0090 - val_acc: 0.8777\n",
      "Epoch 42/50\n",
      "19926/19926 [==============================] - 3s 133us/step - loss: 0.0092 - acc: 0.8842 - val_loss: 0.0090 - val_acc: 0.8646\n",
      "Epoch 43/50\n",
      "19926/19926 [==============================] - 3s 133us/step - loss: 0.0091 - acc: 0.8831 - val_loss: 0.0088 - val_acc: 0.8745\n",
      "Epoch 44/50\n",
      "19926/19926 [==============================] - 3s 132us/step - loss: 0.0090 - acc: 0.8833 - val_loss: 0.0088 - val_acc: 0.8677\n",
      "Epoch 45/50\n",
      "19926/19926 [==============================] - 3s 133us/step - loss: 0.0089 - acc: 0.8857 - val_loss: 0.0087 - val_acc: 0.8709\n",
      "Epoch 46/50\n",
      "19926/19926 [==============================] - 3s 133us/step - loss: 0.0088 - acc: 0.8849 - val_loss: 0.0086 - val_acc: 0.8709\n",
      "Epoch 47/50\n",
      "19926/19926 [==============================] - 3s 130us/step - loss: 0.0087 - acc: 0.8833 - val_loss: 0.0086 - val_acc: 0.8749\n",
      "Epoch 48/50\n",
      "19926/19926 [==============================] - 3s 133us/step - loss: 0.0087 - acc: 0.8845 - val_loss: 0.0085 - val_acc: 0.8722\n",
      "Epoch 49/50\n",
      "19926/19926 [==============================] - 3s 132us/step - loss: 0.0086 - acc: 0.8849 - val_loss: 0.0085 - val_acc: 0.8813\n",
      "Epoch 50/50\n",
      "19926/19926 [==============================] - 3s 134us/step - loss: 0.0086 - acc: 0.8860 - val_loss: 0.0084 - val_acc: 0.8709\n"
     ]
    }
   ],
   "source": [
    "history = model.fit(x_train, y_train, epochs=50, validation_data=(x_test, y_test))"
   ]
  },
  {
   "cell_type": "code",
   "execution_count": 22,
   "metadata": {},
   "outputs": [],
   "source": [
    "#model.save('rnn_base_nova.h5')\n",
    "#model.save('../rnn_base_nova_bem_deepzona.h5')\n",
    "#model = load_model('rnn_base_nova.h5')\n",
    "\n",
    "#model = load_model('./modelo_com_todos_os_jogos.h5')\n",
    "model.save('./simular_Bidirectional_LSTM.h5')"
   ]
  },
  {
   "cell_type": "code",
   "execution_count": 23,
   "metadata": {},
   "outputs": [],
   "source": [
    "results = model.predict(x_test)"
   ]
  },
  {
   "cell_type": "code",
   "execution_count": 24,
   "metadata": {},
   "outputs": [
    {
     "data": {
      "image/png": "[encoded data removed]",
      "text/plain": [
       "<Figure size 432x288 with 1 Axes>"
      ]
     },
     "metadata": {
      "needs_background": "light"
     },
     "output_type": "display_data"
    }
   ],
   "source": [
    "plt.plot(history.history['loss'])\n",
    "plt.show()"
   ]
  },
  {
   "cell_type": "code",
   "execution_count": 25,
   "metadata": {},
   "outputs": [
    {
     "name": "stdout",
     "output_type": "stream",
     "text": [
      "(2215, 1, 46)\n",
      "(2215, 1, 46)\n"
     ]
    }
   ],
   "source": [
    "print(results.shape)\n",
    "print(y_test.shape)"
   ]
  },
  {
   "cell_type": "code",
   "execution_count": 26,
   "metadata": {
    "scrolled": true
   },
   "outputs": [
    {
     "data": {
      "image/png": "[encoded data removed]",
      "text/plain": [
       "<Figure size 432x288 with 1 Axes>"
      ]
     },
     "metadata": {
      "needs_background": "light"
     },
     "output_type": "display_data"
    }
   ],
   "source": [
    "plt.scatter(x_test, results, c='r')\n",
    "plt.scatter(x_test, y_test, c='g')\n",
    "plt.scatter(x_test, results, c='r')\n",
    "plt.show()"
   ]
  },
  {
   "cell_type": "code",
   "execution_count": 30,
   "metadata": {},
   "outputs": [
    {
     "data": {
      "text/plain": [
       "array([[0.07403608, 0.56700166, 0.30899567, 0.14831643, 0.22426166,\n",
       "        0.5704804 , 0.24245327, 0.44020734, 0.3507705 , 0.59601577,\n",
       "        0.3976862 , 0.46208869, 0.41558805, 0.3802632 , 0.45474371,\n",
       "        0.6068439 , 0.47471439, 0.31853378, 0.47365203, 0.785749  ,\n",
       "        0.3903598 , 0.4651262 , 0.99951512, 0.39403098, 0.56011182,\n",
       "        0.40106587, 0.5072354 , 0.44540423, 0.55530375, 0.41305451,\n",
       "        0.5809108 , 0.36188577, 0.59688892, 0.63967265, 0.61809441,\n",
       "        0.49721395, 0.46815456, 0.46003959, 0.56098482, 0.35206947,\n",
       "        0.56278072, 0.60842252, 0.54779621, 0.45594888, 0.4849611 ,\n",
       "        0.49108464]])"
      ]
     },
     "execution_count": 30,
     "metadata": {},
     "output_type": "execute_result"
    }
   ],
   "source": [
    "X[1]"
   ]
  },
  {
   "cell_type": "code",
   "execution_count": 31,
   "metadata": {},
   "outputs": [
    {
     "name": "stdout",
     "output_type": "stream",
     "text": [
      "(1001, 1, 1, 46)\n",
      "(1001, 46)\n"
     ]
    }
   ],
   "source": [
    "start = X[1]\n",
    "start = np.array(start)\n",
    "start = np.reshape(start, (1, 1, 46))\n",
    "\n",
    "jogo_simulado = [start]\n",
    "next_step = start\n",
    "for i in range(1000):\n",
    "    next_step = model.predict(next_step)\n",
    "    jogo_simulado.append(next_step)\n",
    "\n",
    "jogo_simulado = np.array(jogo_simulado)\n",
    "print(jogo_simulado.shape)  \n",
    "jogo_simulado = np.reshape(jogo_simulado, (1001, 46))\n",
    "print(jogo_simulado.shape)  "
   ]
  },
  {
   "cell_type": "code",
   "execution_count": 33,
   "metadata": {},
   "outputs": [
    {
     "data": {
      "text/plain": [
       "0.07403608305619866"
      ]
     },
     "execution_count": 33,
     "metadata": {},
     "output_type": "execute_result"
    }
   ],
   "source": [
    "np.min(jogo_simulado)"
   ]
  },
  {
   "cell_type": "code",
   "execution_count": 34,
   "metadata": {},
   "outputs": [],
   "source": [
    "jogo_simulado_unscaled = min_max_scaler.inverse_transform(jogo_simulado)"
   ]
  },
  {
   "cell_type": "code",
   "execution_count": 36,
   "metadata": {},
   "outputs": [
    {
     "data": {
      "text/plain": [
       "106.35400870000001"
      ]
     },
     "execution_count": 36,
     "metadata": {},
     "output_type": "execute_result"
    }
   ],
   "source": [
    "np.max(jogo_simulado_unscaled)"
   ]
  },
  {
   "cell_type": "code",
   "execution_count": 38,
   "metadata": {},
   "outputs": [],
   "source": [
    "np.savetxt('jogo_simulado.txt', jogo_simulado_unscaled, delimiter=',')"
   ]
  },
  {
   "cell_type": "code",
   "execution_count": null,
   "metadata": {},
   "outputs": [],
   "source": []
  }
 ],
 "metadata": {
  "kernelspec": {
   "display_name": "Python 3",
   "language": "python",
   "name": "python3"
  },
  "language_info": {
   "codemirror_mode": {
    "name": "ipython",
    "version": 3
   },
   "file_extension": ".py",
   "mimetype": "text/x-python",
   "name": "python",
   "nbconvert_exporter": "python",
   "pygments_lexer": "ipython3",
   "version": "3.7.3"
  }
 },
 "nbformat": 4,
 "nbformat_minor": 2
}
