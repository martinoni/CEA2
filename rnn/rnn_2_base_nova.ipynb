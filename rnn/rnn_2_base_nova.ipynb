{
 "cells": [
  {
   "cell_type": "code",
   "execution_count": 1,
   "metadata": {
    "scrolled": true
   },
   "outputs": [
    {
     "name": "stderr",
     "output_type": "stream",
     "text": [
      "Using TensorFlow backend.\n"
     ]
    }
   ],
   "source": [
    "from keras.models import Sequential\n",
    "from keras.layers import Dense\n",
    "from keras.layers import LSTM\n",
    "from keras.layers import Bidirectional\n",
    "from keras.layers import TimeDistributed\n",
    "from keras.models import load_model\n",
    "from sklearn.preprocessing import scale\n",
    "import keras.layers\n",
    "import keras.optimizers\n",
    "from sklearn import preprocessing\n",
    "from sklearn.model_selection import train_test_split\n",
    "import numpy as np\n",
    "import pandas as pd \n",
    "import matplotlib.pyplot as plt\n",
    "import csv\n",
    "import random"
   ]
  },
  {
   "cell_type": "code",
   "execution_count": 2,
   "metadata": {},
   "outputs": [],
   "source": [
    "#Data preparation"
   ]
  },
  {
   "cell_type": "code",
   "execution_count": 3,
   "metadata": {},
   "outputs": [],
   "source": [
    "Data = []\n",
    "with open('../data_dim_nova.csv') as csvfile:\n",
    "    reader = csv.reader(csvfile, quoting=csv.QUOTE_NONNUMERIC) # change contents to floats\n",
    "    for row in reader: # each row is a list\n",
    "        Data.append(row)\n",
    "\n",
    "for row in Data:\n",
    "    row.pop(0)\n",
    "    row.pop(0)\n",
    "    \n",
    "Data = Data[1:]\n",
    "Data = np.array(Data)"
   ]
  },
  {
   "cell_type": "code",
   "execution_count": 4,
   "metadata": {},
   "outputs": [],
   "source": [
    "mean_of_Data = Data.mean(axis=0)\n",
    "std_of_Data = Data.std(axis=0)"
   ]
  },
  {
   "cell_type": "code",
   "execution_count": 5,
   "metadata": {},
   "outputs": [
    {
     "data": {
      "text/plain": [
       "array([42.08133144,  4.46235735, 19.29057559, 19.28390908, 22.00444463,\n",
       "       12.51419073, 22.31493201, 12.25752573, 19.52213545, 21.33943129,\n",
       "       16.28460452, 14.40847832, 16.44689707, 12.26523628, 16.74008491,\n",
       "       14.18980223, 18.3093869 , 18.74431063, 18.20012181, 17.29401688,\n",
       "       19.55050862, 13.47191631, 42.48081582,  3.71510789, 20.0419115 ,\n",
       "       19.78905576, 22.12035528, 11.76784289, 24.62027119, 14.06007095,\n",
       "       19.30920824, 19.83500778, 17.08698309, 17.58930076, 16.94589266,\n",
       "       14.05099295, 15.77988921, 12.35263483, 17.52527649, 17.07893044,\n",
       "       17.238407  , 17.305635  , 19.74939986, 14.51864216, 23.06248046,\n",
       "       20.17520312, 15.55474148,  7.49448002, 15.27116988,  7.36780107,\n",
       "       13.55303504,  6.52587783,  8.95977194,  9.49047395,  7.02548947,\n",
       "        7.57114401,  7.43498343,  7.16062996,  7.80304095,  7.62598392,\n",
       "        7.02821232,  8.54583664,  6.06751007,  8.12420647,  8.82924547,\n",
       "        6.19428313,  9.02179429,  6.05602418,  6.29404026,  7.78645609,\n",
       "        8.30324822,  8.54269104])"
      ]
     },
     "execution_count": 5,
     "metadata": {},
     "output_type": "execute_result"
    }
   ],
   "source": [
    "std_of_Data"
   ]
  },
  {
   "cell_type": "code",
   "execution_count": 6,
   "metadata": {},
   "outputs": [],
   "source": [
    "Data = scale(Data)"
   ]
  },
  {
   "cell_type": "code",
   "execution_count": 7,
   "metadata": {},
   "outputs": [],
   "source": [
    "x = []\n",
    "y = []\n",
    "\n",
    "for i in range(len(Data)-1):\n",
    "    x.append([Data[i]])\n",
    "    y.append([Data[i+1]])\n",
    "\n",
    "Data = x\n",
    "target_aux = y"
   ]
  },
  {
   "cell_type": "code",
   "execution_count": 8,
   "metadata": {},
   "outputs": [],
   "source": [
    "data = np.array(Data)\n",
    "target = np.array(target_aux)"
   ]
  },
  {
   "cell_type": "code",
   "execution_count": 9,
   "metadata": {},
   "outputs": [
    {
     "data": {
      "text/plain": [
       "(94274, 1, 72)"
      ]
     },
     "execution_count": 9,
     "metadata": {},
     "output_type": "execute_result"
    }
   ],
   "source": [
    "data.shape"
   ]
  },
  {
   "cell_type": "code",
   "execution_count": 10,
   "metadata": {},
   "outputs": [
    {
     "data": {
      "text/plain": [
       "(94274, 1, 72)"
      ]
     },
     "execution_count": 10,
     "metadata": {},
     "output_type": "execute_result"
    }
   ],
   "source": [
    "target.shape"
   ]
  },
  {
   "cell_type": "code",
   "execution_count": 11,
   "metadata": {},
   "outputs": [
    {
     "data": {
      "text/plain": [
       "array([[[-0.97508903, -0.25947022, -0.61173667, ..., -0.83584206,\n",
       "         -0.62386316, -0.71670664]],\n",
       "\n",
       "       [[-0.97098021, -0.26359853, -0.61268221, ..., -0.82934462,\n",
       "         -0.60845703, -0.69495993]],\n",
       "\n",
       "       [[-0.96621626, -0.26124305, -0.61394894, ..., -0.82212779,\n",
       "         -0.58723781, -0.66785457]],\n",
       "\n",
       "       ...,\n",
       "\n",
       "       [[-0.96951056,  0.88845757, -1.4764611 , ...,  2.3238155 ,\n",
       "          2.35204786,  0.82152886]],\n",
       "\n",
       "       [[-0.9740779 ,  0.8839958 , -1.54152966, ...,  2.33359401,\n",
       "          2.28426114,  0.84273647]],\n",
       "\n",
       "       [[-0.97845989,  0.88123717, -1.5983911 , ...,  2.33890837,\n",
       "          2.20461159,  0.85955903]]])"
      ]
     },
     "execution_count": 11,
     "metadata": {},
     "output_type": "execute_result"
    }
   ],
   "source": [
    "data"
   ]
  },
  {
   "cell_type": "code",
   "execution_count": 12,
   "metadata": {},
   "outputs": [],
   "source": [
    "data = data.reshape((94274, 1, 72))\n",
    "target = target.reshape((94274, 1, 72))"
   ]
  },
  {
   "cell_type": "code",
   "execution_count": 13,
   "metadata": {},
   "outputs": [],
   "source": [
    "x_train,x_test,y_train,y_test = train_test_split(data, target, test_size=0.1, random_state=4)"
   ]
  },
  {
   "cell_type": "code",
   "execution_count": 62,
   "metadata": {},
   "outputs": [],
   "source": [
    "#RNN"
   ]
  },
  {
   "cell_type": "code",
   "execution_count": 63,
   "metadata": {},
   "outputs": [],
   "source": [
    "model = Sequential()"
   ]
  },
  {
   "cell_type": "code",
   "execution_count": 64,
   "metadata": {},
   "outputs": [],
   "source": [
    "model.add(Bidirectional(LSTM((72), batch_input_shape=(None, 1, 72), return_sequences=True, activation='tanh'),\n",
    "                    merge_mode='concat', weights=None))\n",
    "model.add(TimeDistributed(Dense(72), input_shape=(1, 72)))\n",
    "model.add(Bidirectional(LSTM((72), batch_input_shape=(None, 1, 72), return_sequences=True, activation='tanh'),\n",
    "                    merge_mode='concat', weights=None))\n",
    "model.add(TimeDistributed(Dense(72), input_shape=(1, 72)))\n",
    "model.add(Bidirectional(LSTM((72), batch_input_shape=(None, 1, 72), return_sequences=True, activation='tanh'),\n",
    "                    merge_mode='concat', weights=None))\n",
    "model.add(TimeDistributed(Dense(72), input_shape=(1, 72)))\n",
    "model.add(Bidirectional(LSTM((72), batch_input_shape=(None, 1, 72), return_sequences=True, activation='tanh'),\n",
    "                    merge_mode='concat', weights=None))\n",
    "model.add(TimeDistributed(Dense(72), input_shape=(1, 72)))\n",
    "model.add(Bidirectional(LSTM((72), batch_input_shape=(None, 1, 72), return_sequences=True, activation='tanh'),\n",
    "                    merge_mode='concat', weights=None))\n",
    "model.add(TimeDistributed(Dense(72), input_shape=(1, 72)))"
   ]
  },
  {
   "cell_type": "code",
   "execution_count": 65,
   "metadata": {},
   "outputs": [],
   "source": [
    "adam = keras.optimizers.adam(lr = 0.0001)"
   ]
  },
  {
   "cell_type": "code",
   "execution_count": 66,
   "metadata": {},
   "outputs": [],
   "source": [
    "model.compile(loss='mean_absolute_error', optimizer=adam, metrics=['accuracy'])"
   ]
  },
  {
   "cell_type": "code",
   "execution_count": 30,
   "metadata": {},
   "outputs": [
    {
     "name": "stdout",
     "output_type": "stream",
     "text": [
      "_________________________________________________________________\n",
      "Layer (type)                 Output Shape              Param #   \n",
      "=================================================================\n",
      "bidirectional_3 (Bidirection (None, 1, 144)            83520     \n",
      "_________________________________________________________________\n",
      "time_distributed_3 (TimeDist (None, 1, 72)             10440     \n",
      "_________________________________________________________________\n",
      "bidirectional_4 (Bidirection (None, 1, 144)            83520     \n",
      "_________________________________________________________________\n",
      "time_distributed_4 (TimeDist (None, 1, 72)             10440     \n",
      "_________________________________________________________________\n",
      "bidirectional_5 (Bidirection (None, 1, 144)            83520     \n",
      "_________________________________________________________________\n",
      "time_distributed_5 (TimeDist (None, 1, 72)             10440     \n",
      "_________________________________________________________________\n",
      "bidirectional_6 (Bidirection (None, 1, 144)            83520     \n",
      "_________________________________________________________________\n",
      "time_distributed_6 (TimeDist (None, 1, 72)             10440     \n",
      "_________________________________________________________________\n",
      "bidirectional_7 (Bidirection (None, 1, 144)            83520     \n",
      "_________________________________________________________________\n",
      "time_distributed_7 (TimeDist (None, 1, 72)             10440     \n",
      "=================================================================\n",
      "Total params: 469,800\n",
      "Trainable params: 469,800\n",
      "Non-trainable params: 0\n",
      "_________________________________________________________________\n"
     ]
    }
   ],
   "source": [
    "model.summary()"
   ]
  },
  {
   "cell_type": "code",
   "execution_count": null,
   "metadata": {},
   "outputs": [
    {
     "name": "stdout",
     "output_type": "stream",
     "text": [
      "Train on 84846 samples, validate on 9428 samples\n",
      "Epoch 1/50\n",
      "19648/84846 [=====>........................] - ETA: 23s - loss: 0.0266 - acc: 0.9389"
     ]
    }
   ],
   "source": [
    "history = model.fit(x_train, y_train, epochs=50, validation_data=(x_test, y_test))"
   ]
  },
  {
   "cell_type": "code",
   "execution_count": null,
   "metadata": {},
   "outputs": [],
   "source": [
    "#model.save('rnn_base_nova.h5')\n",
    "#model.save('../rnn_base_nova_bem_deepzona.h5')\n",
    "#model = load_model('rnn_base_nova.h5')\n",
    "\n",
    "#model = load_model('./modelo_com_todos_os_jogos.h5')\n",
    "model.save('./modelo_com_todos_os_jogos.h5')"
   ]
  },
  {
   "cell_type": "code",
   "execution_count": 17,
   "metadata": {},
   "outputs": [],
   "source": [
    "results = model.predict(x_test)"
   ]
  },
  {
   "cell_type": "code",
   "execution_count": 18,
   "metadata": {},
   "outputs": [
    {
     "data": {
      "image/png": "[encoded data removed]",
      "text/plain": [
       "<Figure size 432x288 with 1 Axes>"
      ]
     },
     "metadata": {
      "needs_background": "light"
     },
     "output_type": "display_data"
    }
   ],
   "source": [
    "plt.plot(history.history['loss'])\n",
    "plt.show()"
   ]
  },
  {
   "cell_type": "code",
   "execution_count": 38,
   "metadata": {},
   "outputs": [
    {
     "name": "stdout",
     "output_type": "stream",
     "text": [
      "(9428, 1, 72)\n",
      "(9428, 1, 72)\n"
     ]
    }
   ],
   "source": [
    "print(results.shape)\n",
    "print(y_test.shape)"
   ]
  },
  {
   "cell_type": "code",
   "execution_count": 39,
   "metadata": {},
   "outputs": [
    {
     "data": {
      "image/png": "[encoded data removed]",
      "text/plain": [
       "<Figure size 432x288 with 1 Axes>"
      ]
     },
     "metadata": {
      "needs_background": "light"
     },
     "output_type": "display_data"
    }
   ],
   "source": [
    "plt.scatter(x_test, results, c='r')\n",
    "plt.scatter(x_test, y_test, c='g')\n",
    "plt.scatter(x_test, results, c='r')\n",
    "plt.show()"
   ]
  },
  {
   "cell_type": "code",
   "execution_count": 40,
   "metadata": {},
   "outputs": [
    {
     "data": {
      "text/plain": [
       "array([[-9.70980211e-01, -2.63598527e-01, -6.12682205e-01,\n",
       "        -1.29317550e+00, -9.09577426e-01, -4.56412913e-01,\n",
       "        -8.77079889e-01,  2.75899097e-01, -4.99895002e-01,\n",
       "         8.17605277e-01, -7.69791222e-01,  1.54758614e-01,\n",
       "        -4.22094951e-01, -7.43184000e-01, -1.09977739e-01,\n",
       "        -8.33814238e-05,  2.18846337e-01, -9.43629697e-01,\n",
       "         2.00877478e-01,  1.14856407e+00,  8.77352433e-02,\n",
       "         6.74532461e-02,  1.06586273e+00, -5.15741039e-01,\n",
       "         7.03745063e-01,  2.78053014e-01,  6.43847901e-01,\n",
       "        -2.33051136e-01,  6.09986591e-01, -4.76998758e-01,\n",
       "         5.46857571e-01, -9.15794495e-01,  2.98600923e-01,\n",
       "         3.98772796e-01,  5.61060222e-01, -1.05450777e-01,\n",
       "         7.26885306e-01, -2.53874382e-01,  4.68957029e-01,\n",
       "        -4.90496259e-01,  5.11646697e-01,  2.16197395e-01,\n",
       "         4.00668035e-01, -4.78324747e-01,  1.34302489e-01,\n",
       "        -4.19795564e-02, -6.66987213e-01, -1.81641706e-01,\n",
       "         8.76582402e-01, -4.41021587e-01, -4.75240239e-01,\n",
       "         1.07643684e+00, -6.61065417e-01, -7.34492038e-01,\n",
       "        -2.16368569e-01, -1.54726142e+00, -1.44031643e-01,\n",
       "        -3.98387474e-01,  1.26895738e-01,  1.19417585e+00,\n",
       "        -2.37169251e-01,  4.76911722e-02, -1.57183819e+00,\n",
       "        -1.75930139e+00, -9.67797549e-01, -5.17028691e-01,\n",
       "        -7.54560876e-02, -1.07881792e+00, -1.13803714e+00,\n",
       "        -8.29344620e-01, -6.08457034e-01, -6.94959929e-01]])"
      ]
     },
     "execution_count": 40,
     "metadata": {},
     "output_type": "execute_result"
    }
   ],
   "source": [
    "data[1]"
   ]
  },
  {
   "cell_type": "code",
   "execution_count": 45,
   "metadata": {},
   "outputs": [
    {
     "name": "stdout",
     "output_type": "stream",
     "text": [
      "(1001, 1, 1, 72)\n",
      "(1001, 72)\n"
     ]
    }
   ],
   "source": [
    "#start = []\n",
    "#for i in range():\n",
    "#    x_rand = random.uniform(0, 1)\n",
    "#    y_rand = random.uniform(0, 68/105)\n",
    "#    start.append(x_rand)\n",
    "#    start.append(y_rand)\n",
    "    \n",
    "start = data[1]\n",
    "start = np.array(start)\n",
    "start = np.reshape(start, (1, 1, 72))\n",
    "\n",
    "jogo_simulado = [start]\n",
    "next_step = start\n",
    "for i in range(1000):\n",
    "    next_step = model.predict(next_step)\n",
    "    jogo_simulado.append(next_step)\n",
    "\n",
    "jogo_simulado = np.array(jogo_simulado)\n",
    "print(jogo_simulado.shape)  \n",
    "jogo_simulado = np.reshape(jogo_simulado, (1001, 72))\n",
    "print(jogo_simulado.shape)  "
   ]
  },
  {
   "cell_type": "code",
   "execution_count": 48,
   "metadata": {},
   "outputs": [
    {
     "data": {
      "text/plain": [
       "143.57184141330643"
      ]
     },
     "execution_count": 48,
     "metadata": {},
     "output_type": "execute_result"
    }
   ],
   "source": [
    "np.max(jogo_simulado)"
   ]
  },
  {
   "cell_type": "code",
   "execution_count": 47,
   "metadata": {},
   "outputs": [],
   "source": [
    "np.savetxt('jogo_simulado.txt', jogo_simulado, delimiter=',')"
   ]
  },
  {
   "cell_type": "code",
   "execution_count": 49,
   "metadata": {},
   "outputs": [
    {
     "data": {
      "text/plain": [
       "-28.409599820115595"
      ]
     },
     "execution_count": 49,
     "metadata": {},
     "output_type": "execute_result"
    }
   ],
   "source": [
    "np.min(jogo_simulado)"
   ]
  },
  {
   "cell_type": "code",
   "execution_count": 46,
   "metadata": {},
   "outputs": [],
   "source": [
    "jogo_simulado = (jogo_simulado * std_of_Data) + mean_of_Data"
   ]
  },
  {
   "cell_type": "code",
   "execution_count": null,
   "metadata": {},
   "outputs": [],
   "source": []
  }
 ],
 "metadata": {
  "kernelspec": {
   "display_name": "Python 3",
   "language": "python",
   "name": "python3"
  },
  "language_info": {
   "codemirror_mode": {
    "name": "ipython",
    "version": 3
   },
   "file_extension": ".py",
   "mimetype": "text/x-python",
   "name": "python",
   "nbconvert_exporter": "python",
   "pygments_lexer": "ipython3",
   "version": "3.7.4"
  }
 },
 "nbformat": 4,
 "nbformat_minor": 2
}
