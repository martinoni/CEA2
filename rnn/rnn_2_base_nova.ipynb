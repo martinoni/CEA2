{
 "cells": [
  {
   "cell_type": "code",
   "execution_count": 22,
   "metadata": {
    "scrolled": true
   },
   "outputs": [],
   "source": [
    "from keras.models import Sequential\n",
    "from keras.layers import Dense\n",
    "from keras.layers import LSTM\n",
    "from keras.layers import Bidirectional\n",
    "from keras.layers import TimeDistributed\n",
    "from keras.models import load_model\n",
    "from sklearn.preprocessing import scale\n",
    "import keras.layers\n",
    "import keras.optimizers\n",
    "from sklearn import preprocessing\n",
    "from sklearn.model_selection import train_test_split\n",
    "import numpy as np\n",
    "import pandas as pd \n",
    "import matplotlib.pyplot as plt\n",
    "import csv\n",
    "import random"
   ]
  },
  {
   "cell_type": "code",
   "execution_count": 23,
   "metadata": {},
   "outputs": [],
   "source": [
    "#Data preparation"
   ]
  },
  {
   "cell_type": "code",
   "execution_count": 24,
   "metadata": {},
   "outputs": [],
   "source": [
    "Data = []\n",
    "with open('../data_dim_nova.csv') as csvfile:\n",
    "    reader = csv.reader(csvfile, quoting=csv.QUOTE_NONNUMERIC) # change contents to floats\n",
    "    for row in reader: # each row is a list\n",
    "        Data.append(row)\n",
    "\n",
    "for row in Data:\n",
    "    row.pop(0)\n",
    "    row.pop(0)\n",
    "    \n",
    "Data = Data[1:]\n",
    "Data = np.array(Data)"
   ]
  },
  {
   "cell_type": "code",
   "execution_count": 25,
   "metadata": {},
   "outputs": [],
   "source": [
    "mean_of_Data = Data.mean(axis=0)\n",
    "std_of_Data = Data.std(axis=0)"
   ]
  },
  {
   "cell_type": "code",
   "execution_count": 35,
   "metadata": {},
   "outputs": [
    {
     "data": {
      "text/plain": [
       "array([42.08133144,  4.46235735, 19.29057559, 19.28390908, 22.00444463,\n",
       "       12.51419073, 22.31493201, 12.25752573, 19.52213545, 21.33943129,\n",
       "       16.28460452, 14.40847832, 16.44689707, 12.26523628, 16.74008491,\n",
       "       14.18980223, 18.3093869 , 18.74431063, 18.20012181, 17.29401688,\n",
       "       19.55050862, 13.47191631, 42.48081582,  3.71510789, 20.0419115 ,\n",
       "       19.78905576, 22.12035528, 11.76784289, 24.62027119, 14.06007095,\n",
       "       19.30920824, 19.83500778, 17.08698309, 17.58930076, 16.94589266,\n",
       "       14.05099295, 15.77988921, 12.35263483, 17.52527649, 17.07893044,\n",
       "       17.238407  , 17.305635  , 19.74939986, 14.51864216, 23.06248046,\n",
       "       20.17520312, 15.55474148,  7.49448002, 15.27116988,  7.36780107,\n",
       "       13.55303504,  6.52587783,  8.95977194,  9.49047395,  7.02548947,\n",
       "        7.57114401,  7.43498343,  7.16062996,  7.80304095,  7.62598392,\n",
       "        7.02821232,  8.54583664,  6.06751007,  8.12420647,  8.82924547,\n",
       "        6.19428313,  9.02179429,  6.05602418,  6.29404026,  7.78645609,\n",
       "        8.30324822,  8.54269104])"
      ]
     },
     "execution_count": 35,
     "metadata": {},
     "output_type": "execute_result"
    }
   ],
   "source": [
    "std_of_Data"
   ]
  },
  {
   "cell_type": "code",
   "execution_count": 27,
   "metadata": {},
   "outputs": [],
   "source": [
    "Data = preprocessing.normalize(Data)"
   ]
  },
  {
   "cell_type": "code",
   "execution_count": 28,
   "metadata": {},
   "outputs": [],
   "source": [
    "x = []\n",
    "y = []\n",
    "\n",
    "for i in range(len(Data)-1):\n",
    "    x.append([Data[i]])\n",
    "    y.append([Data[i+1]])\n",
    "\n",
    "Data = x\n",
    "target_aux = y"
   ]
  },
  {
   "cell_type": "code",
   "execution_count": 29,
   "metadata": {},
   "outputs": [],
   "source": [
    "data = np.array(Data)\n",
    "target = np.array(target_aux)"
   ]
  },
  {
   "cell_type": "code",
   "execution_count": 30,
   "metadata": {},
   "outputs": [
    {
     "data": {
      "text/plain": [
       "(94274, 1, 72)"
      ]
     },
     "execution_count": 30,
     "metadata": {},
     "output_type": "execute_result"
    }
   ],
   "source": [
    "data.shape"
   ]
  },
  {
   "cell_type": "code",
   "execution_count": 31,
   "metadata": {},
   "outputs": [
    {
     "data": {
      "text/plain": [
       "(94274, 1, 72)"
      ]
     },
     "execution_count": 31,
     "metadata": {},
     "output_type": "execute_result"
    }
   ],
   "source": [
    "target.shape"
   ]
  },
  {
   "cell_type": "code",
   "execution_count": 36,
   "metadata": {},
   "outputs": [
    {
     "data": {
      "text/plain": [
       "array([[0.40198437, 0.1709582 , 0.23635126, 0.25575686, 0.25234888,\n",
       "        0.21341191, 0.24500828, 0.20673824, 0.23702467, 0.25369094,\n",
       "        0.2485851 , 0.26073895, 0.23892631, 0.21110706, 0.23869862,\n",
       "        0.24086799, 0.27372546, 0.25629405, 0.24318643, 0.24125576,\n",
       "        0.29413521, 0.22401686, 0.4455596 , 0.16718032, 0.25119144,\n",
       "        0.27260191, 0.26093726, 0.21832518, 0.2609904 , 0.20877525,\n",
       "        0.23618188, 0.22394422, 0.26369816, 0.24624822, 0.23958978,\n",
       "        0.24423588, 0.22456609, 0.2663333 , 0.23896873, 0.25920048,\n",
       "        0.23555555, 0.25542379, 0.24030873, 0.22422442, 0.32892778,\n",
       "        0.26394195, 0.20094926, 0.16254301, 0.20388681, 0.17352075,\n",
       "        0.33595685, 0.16207733, 0.180113  , 0.16149095, 0.13785274,\n",
       "        0.14940316, 0.15300234, 0.14592551, 0.19374489, 0.16519642,\n",
       "        0.15069892, 0.304493  , 0.16527033, 0.15987561, 0.16572329,\n",
       "        0.1475383 , 0.16194086, 0.1512245 , 0.14402032, 0.19104367,\n",
       "        0.16474208, 0.18438535]])"
      ]
     },
     "execution_count": 36,
     "metadata": {},
     "output_type": "execute_result"
    }
   ],
   "source": [
    "data.max(axis = 0)"
   ]
  },
  {
   "cell_type": "code",
   "execution_count": 12,
   "metadata": {},
   "outputs": [],
   "source": [
    "data = data.reshape((94274, 1, 72))\n",
    "target = target.reshape((94274, 1, 72))"
   ]
  },
  {
   "cell_type": "code",
   "execution_count": 13,
   "metadata": {},
   "outputs": [],
   "source": [
    "x_train,x_test,y_train,y_test = train_test_split(data, target, test_size=0.1, random_state=4)"
   ]
  },
  {
   "cell_type": "code",
   "execution_count": 14,
   "metadata": {},
   "outputs": [],
   "source": [
    "#RNN"
   ]
  },
  {
   "cell_type": "code",
   "execution_count": 63,
   "metadata": {},
   "outputs": [],
   "source": [
    "model = Sequential()"
   ]
  },
  {
   "cell_type": "code",
   "execution_count": 64,
   "metadata": {},
   "outputs": [],
   "source": [
    "model.add(Bidirectional(LSTM((72), batch_input_shape=(None, 1, 72), return_sequences=True, activation='tanh'),\n",
    "                    merge_mode='concat', weights=None))\n",
    "model.add(TimeDistributed(Dense(72), input_shape=(1, 72)))\n",
    "model.add(Activ)"
   ]
  },
  {
   "cell_type": "code",
   "execution_count": 65,
   "metadata": {},
   "outputs": [],
   "source": [
    "adam = keras.optimizers.adam(lr = 0.0001)"
   ]
  },
  {
   "cell_type": "code",
   "execution_count": 66,
   "metadata": {},
   "outputs": [],
   "source": [
    "model.compile(loss='mean_absolute_error', optimizer=adam, metrics=['accuracy'])"
   ]
  },
  {
   "cell_type": "code",
   "execution_count": 30,
   "metadata": {},
   "outputs": [
    {
     "name": "stdout",
     "output_type": "stream",
     "text": [
      "_________________________________________________________________\n",
      "Layer (type)                 Output Shape              Param #   \n",
      "=================================================================\n",
      "bidirectional_3 (Bidirection (None, 1, 144)            83520     \n",
      "_________________________________________________________________\n",
      "time_distributed_3 (TimeDist (None, 1, 72)             10440     \n",
      "_________________________________________________________________\n",
      "bidirectional_4 (Bidirection (None, 1, 144)            83520     \n",
      "_________________________________________________________________\n",
      "time_distributed_4 (TimeDist (None, 1, 72)             10440     \n",
      "_________________________________________________________________\n",
      "bidirectional_5 (Bidirection (None, 1, 144)            83520     \n",
      "_________________________________________________________________\n",
      "time_distributed_5 (TimeDist (None, 1, 72)             10440     \n",
      "_________________________________________________________________\n",
      "bidirectional_6 (Bidirection (None, 1, 144)            83520     \n",
      "_________________________________________________________________\n",
      "time_distributed_6 (TimeDist (None, 1, 72)             10440     \n",
      "_________________________________________________________________\n",
      "bidirectional_7 (Bidirection (None, 1, 144)            83520     \n",
      "_________________________________________________________________\n",
      "time_distributed_7 (TimeDist (None, 1, 72)             10440     \n",
      "=================================================================\n",
      "Total params: 469,800\n",
      "Trainable params: 469,800\n",
      "Non-trainable params: 0\n",
      "_________________________________________________________________\n"
     ]
    }
   ],
   "source": [
    "model.summary()"
   ]
  },
  {
   "cell_type": "code",
   "execution_count": 27,
   "metadata": {},
   "outputs": [
    {
     "name": "stdout",
     "output_type": "stream",
     "text": [
      "Train on 84846 samples, validate on 9428 samples\n",
      "Epoch 1/50\n",
      "84846/84846 [==============================] - 30s 354us/step - loss: 0.0260 - acc: 0.9416 - val_loss: 0.0269 - val_acc: 0.9353\n",
      "Epoch 2/50\n",
      "84846/84846 [==============================] - 35s 410us/step - loss: 0.0260 - acc: 0.9412 - val_loss: 0.0269 - val_acc: 0.9389\n",
      "Epoch 3/50\n",
      "84846/84846 [==============================] - 32s 378us/step - loss: 0.0259 - acc: 0.9411 - val_loss: 0.0276 - val_acc: 0.9331\n",
      "Epoch 4/50\n",
      "84846/84846 [==============================] - 32s 373us/step - loss: 0.0260 - acc: 0.9422 - val_loss: 0.0268 - val_acc: 0.9388\n",
      "Epoch 5/50\n",
      "84846/84846 [==============================] - 31s 367us/step - loss: 0.0260 - acc: 0.9410 - val_loss: 0.0272 - val_acc: 0.9354\n",
      "Epoch 6/50\n",
      "84846/84846 [==============================] - 37s 433us/step - loss: 0.0260 - acc: 0.9416 - val_loss: 0.0271 - val_acc: 0.9376\n",
      "Epoch 7/50\n",
      "84846/84846 [==============================] - 34s 403us/step - loss: 0.0259 - acc: 0.9417 - val_loss: 0.0271 - val_acc: 0.9357\n",
      "Epoch 8/50\n",
      "84846/84846 [==============================] - 37s 436us/step - loss: 0.0259 - acc: 0.9414 - val_loss: 0.0269 - val_acc: 0.9369\n",
      "Epoch 9/50\n",
      "84846/84846 [==============================] - 34s 400us/step - loss: 0.0259 - acc: 0.9419 - val_loss: 0.0276 - val_acc: 0.9336\n",
      "Epoch 10/50\n",
      "84846/84846 [==============================] - 32s 376us/step - loss: 0.0259 - acc: 0.9418 - val_loss: 0.0271 - val_acc: 0.9352\n",
      "Epoch 11/50\n",
      "84846/84846 [==============================] - 31s 366us/step - loss: 0.0259 - acc: 0.9419 - val_loss: 0.0272 - val_acc: 0.9378\n",
      "Epoch 12/50\n",
      "84846/84846 [==============================] - 34s 397us/step - loss: 0.0259 - acc: 0.9419 - val_loss: 0.0267 - val_acc: 0.9331\n",
      "Epoch 13/50\n",
      "84846/84846 [==============================] - 32s 378us/step - loss: 0.0259 - acc: 0.9414 - val_loss: 0.0273 - val_acc: 0.9383\n",
      "Epoch 14/50\n",
      "84846/84846 [==============================] - 32s 371us/step - loss: 0.0259 - acc: 0.9411 - val_loss: 0.0273 - val_acc: 0.9361\n",
      "Epoch 15/50\n",
      "84846/84846 [==============================] - 36s 419us/step - loss: 0.0259 - acc: 0.9413 - val_loss: 0.0277 - val_acc: 0.9331\n",
      "Epoch 16/50\n",
      "84846/84846 [==============================] - 39s 462us/step - loss: 0.0258 - acc: 0.9422 - val_loss: 0.0270 - val_acc: 0.9363\n",
      "Epoch 17/50\n",
      "84846/84846 [==============================] - 32s 380us/step - loss: 0.0259 - acc: 0.9414 - val_loss: 0.0274 - val_acc: 0.9369\n",
      "Epoch 18/50\n",
      "84846/84846 [==============================] - 32s 373us/step - loss: 0.0258 - acc: 0.9418 - val_loss: 0.0272 - val_acc: 0.9370\n",
      "Epoch 19/50\n",
      "84846/84846 [==============================] - 31s 366us/step - loss: 0.0258 - acc: 0.9428 - val_loss: 0.0274 - val_acc: 0.9361\n",
      "Epoch 20/50\n",
      "84846/84846 [==============================] - 32s 375us/step - loss: 0.0258 - acc: 0.9423 - val_loss: 0.0269 - val_acc: 0.9350\n",
      "Epoch 21/50\n",
      "84846/84846 [==============================] - 32s 374us/step - loss: 0.0258 - acc: 0.9420 - val_loss: 0.0272 - val_acc: 0.9360\n",
      "Epoch 22/50\n",
      "84846/84846 [==============================] - 31s 368us/step - loss: 0.0257 - acc: 0.9417 - val_loss: 0.0271 - val_acc: 0.9368\n",
      "Epoch 23/50\n",
      "84846/84846 [==============================] - 31s 367us/step - loss: 0.0258 - acc: 0.9422 - val_loss: 0.0268 - val_acc: 0.9370\n",
      "Epoch 24/50\n",
      "84846/84846 [==============================] - 32s 374us/step - loss: 0.0257 - acc: 0.9417 - val_loss: 0.0270 - val_acc: 0.9382\n",
      "Epoch 25/50\n",
      "84846/84846 [==============================] - 31s 366us/step - loss: 0.0257 - acc: 0.9432 - val_loss: 0.0271 - val_acc: 0.9324\n",
      "Epoch 26/50\n",
      "84846/84846 [==============================] - 31s 367us/step - loss: 0.0257 - acc: 0.9423 - val_loss: 0.0277 - val_acc: 0.9357\n",
      "Epoch 27/50\n",
      "84846/84846 [==============================] - 33s 384us/step - loss: 0.0257 - acc: 0.9426 - val_loss: 0.0272 - val_acc: 0.9342\n",
      "Epoch 28/50\n",
      "84846/84846 [==============================] - 31s 371us/step - loss: 0.0257 - acc: 0.9424 - val_loss: 0.0268 - val_acc: 0.9364\n",
      "Epoch 29/50\n",
      "84846/84846 [==============================] - 32s 379us/step - loss: 0.0257 - acc: 0.9440 - val_loss: 0.0267 - val_acc: 0.9363\n",
      "Epoch 30/50\n",
      "84846/84846 [==============================] - 32s 375us/step - loss: 0.0257 - acc: 0.9427 - val_loss: 0.0271 - val_acc: 0.9354\n",
      "Epoch 31/50\n",
      "84846/84846 [==============================] - 31s 367us/step - loss: 0.0257 - acc: 0.9417 - val_loss: 0.0275 - val_acc: 0.9360\n",
      "Epoch 32/50\n",
      "84846/84846 [==============================] - 31s 366us/step - loss: 0.0257 - acc: 0.9419 - val_loss: 0.0278 - val_acc: 0.9342\n",
      "Epoch 33/50\n",
      "84846/84846 [==============================] - 31s 367us/step - loss: 0.0256 - acc: 0.9423 - val_loss: 0.0275 - val_acc: 0.9373\n",
      "Epoch 34/50\n",
      "84846/84846 [==============================] - 31s 368us/step - loss: 0.0257 - acc: 0.9424 - val_loss: 0.0271 - val_acc: 0.9346\n",
      "Epoch 35/50\n",
      "84846/84846 [==============================] - 31s 365us/step - loss: 0.0256 - acc: 0.9425 - val_loss: 0.0272 - val_acc: 0.9369\n",
      "Epoch 36/50\n",
      "84846/84846 [==============================] - 33s 386us/step - loss: 0.0257 - acc: 0.9426 - val_loss: 0.0268 - val_acc: 0.9378\n",
      "Epoch 37/50\n",
      "84846/84846 [==============================] - 31s 368us/step - loss: 0.0256 - acc: 0.9425 - val_loss: 0.0266 - val_acc: 0.9380\n",
      "Epoch 38/50\n",
      "84846/84846 [==============================] - 32s 371us/step - loss: 0.0256 - acc: 0.9422 - val_loss: 0.0269 - val_acc: 0.9342\n",
      "Epoch 39/50\n",
      "84846/84846 [==============================] - 31s 367us/step - loss: 0.0256 - acc: 0.9427 - val_loss: 0.0268 - val_acc: 0.9342\n",
      "Epoch 40/50\n",
      "84846/84846 [==============================] - 35s 408us/step - loss: 0.0256 - acc: 0.9425 - val_loss: 0.0271 - val_acc: 0.9348\n",
      "Epoch 41/50\n",
      "84846/84846 [==============================] - 34s 395us/step - loss: 0.0256 - acc: 0.9424 - val_loss: 0.0267 - val_acc: 0.9391\n",
      "Epoch 42/50\n",
      "84846/84846 [==============================] - 31s 366us/step - loss: 0.0256 - acc: 0.9435 - val_loss: 0.0273 - val_acc: 0.9375\n",
      "Epoch 43/50\n",
      "84846/84846 [==============================] - 33s 390us/step - loss: 0.0256 - acc: 0.9436 - val_loss: 0.0267 - val_acc: 0.9383\n",
      "Epoch 44/50\n",
      "84846/84846 [==============================] - 35s 416us/step - loss: 0.0255 - acc: 0.9429 - val_loss: 0.0268 - val_acc: 0.9373\n",
      "Epoch 45/50\n",
      "84846/84846 [==============================] - 34s 398us/step - loss: 0.0255 - acc: 0.9442 - val_loss: 0.0273 - val_acc: 0.9391\n",
      "Epoch 46/50\n",
      "84846/84846 [==============================] - 37s 433us/step - loss: 0.0255 - acc: 0.9428 - val_loss: 0.0270 - val_acc: 0.9370\n",
      "Epoch 47/50\n",
      "84846/84846 [==============================] - 37s 431us/step - loss: 0.0255 - acc: 0.9433 - val_loss: 0.0271 - val_acc: 0.9351\n",
      "Epoch 48/50\n",
      "84846/84846 [==============================] - 37s 437us/step - loss: 0.0255 - acc: 0.9429 - val_loss: 0.0268 - val_acc: 0.9360\n",
      "Epoch 49/50\n",
      "84846/84846 [==============================] - 31s 370us/step - loss: 0.0255 - acc: 0.9436 - val_loss: 0.0271 - val_acc: 0.9370\n",
      "Epoch 50/50\n",
      "84846/84846 [==============================] - 30s 359us/step - loss: 0.0255 - acc: 0.9431 - val_loss: 0.0269 - val_acc: 0.9356\n"
     ]
    }
   ],
   "source": [
    "history = model.fit(x_train, y_train, epochs=50, validation_data=(x_test, y_test))"
   ]
  },
  {
   "cell_type": "code",
   "execution_count": 28,
   "metadata": {},
   "outputs": [],
   "source": [
    "#model.save('rnn_base_nova.h5')\n",
    "#model.save('../rnn_base_nova_bem_deepzona.h5')\n",
    "#model = load_model('rnn_base_nova.h5')\n",
    "\n",
    "#model = load_model('./modelo_com_todos_os_jogos.h5')\n",
    "model.save('./modelo_com_todos_os_jogos.h5')"
   ]
  },
  {
   "cell_type": "code",
   "execution_count": 17,
   "metadata": {},
   "outputs": [],
   "source": [
    "results = model.predict(x_test)"
   ]
  },
  {
   "cell_type": "code",
   "execution_count": 26,
   "metadata": {},
   "outputs": [
    {
     "data": {
      "image/png": "[encoded data removed]",
      "text/plain": [
       "<Figure size 432x288 with 1 Axes>"
      ]
     },
     "metadata": {
      "needs_background": "light"
     },
     "output_type": "display_data"
    }
   ],
   "source": [
    "plt.plot(history.history['loss'])\n",
    "plt.show()"
   ]
  },
  {
   "cell_type": "code",
   "execution_count": 38,
   "metadata": {},
   "outputs": [
    {
     "name": "stdout",
     "output_type": "stream",
     "text": [
      "(9428, 1, 72)\n",
      "(9428, 1, 72)\n"
     ]
    }
   ],
   "source": [
    "print(results.shape)\n",
    "print(y_test.shape)"
   ]
  },
  {
   "cell_type": "code",
   "execution_count": 39,
   "metadata": {},
   "outputs": [
    {
     "data": {
      "image/png": "[encoded data removed]",
      "text/plain": [
       "<Figure size 432x288 with 1 Axes>"
      ]
     },
     "metadata": {
      "needs_background": "light"
     },
     "output_type": "display_data"
    }
   ],
   "source": [
    "plt.scatter(x_test, results, c='r')\n",
    "plt.scatter(x_test, y_test, c='g')\n",
    "plt.scatter(x_test, results, c='r')\n",
    "plt.show()"
   ]
  },
  {
   "cell_type": "code",
   "execution_count": 40,
   "metadata": {},
   "outputs": [
    {
     "data": {
      "text/plain": [
       "array([[-9.70980211e-01, -2.63598527e-01, -6.12682205e-01,\n",
       "        -1.29317550e+00, -9.09577426e-01, -4.56412913e-01,\n",
       "        -8.77079889e-01,  2.75899097e-01, -4.99895002e-01,\n",
       "         8.17605277e-01, -7.69791222e-01,  1.54758614e-01,\n",
       "        -4.22094951e-01, -7.43184000e-01, -1.09977739e-01,\n",
       "        -8.33814238e-05,  2.18846337e-01, -9.43629697e-01,\n",
       "         2.00877478e-01,  1.14856407e+00,  8.77352433e-02,\n",
       "         6.74532461e-02,  1.06586273e+00, -5.15741039e-01,\n",
       "         7.03745063e-01,  2.78053014e-01,  6.43847901e-01,\n",
       "        -2.33051136e-01,  6.09986591e-01, -4.76998758e-01,\n",
       "         5.46857571e-01, -9.15794495e-01,  2.98600923e-01,\n",
       "         3.98772796e-01,  5.61060222e-01, -1.05450777e-01,\n",
       "         7.26885306e-01, -2.53874382e-01,  4.68957029e-01,\n",
       "        -4.90496259e-01,  5.11646697e-01,  2.16197395e-01,\n",
       "         4.00668035e-01, -4.78324747e-01,  1.34302489e-01,\n",
       "        -4.19795564e-02, -6.66987213e-01, -1.81641706e-01,\n",
       "         8.76582402e-01, -4.41021587e-01, -4.75240239e-01,\n",
       "         1.07643684e+00, -6.61065417e-01, -7.34492038e-01,\n",
       "        -2.16368569e-01, -1.54726142e+00, -1.44031643e-01,\n",
       "        -3.98387474e-01,  1.26895738e-01,  1.19417585e+00,\n",
       "        -2.37169251e-01,  4.76911722e-02, -1.57183819e+00,\n",
       "        -1.75930139e+00, -9.67797549e-01, -5.17028691e-01,\n",
       "        -7.54560876e-02, -1.07881792e+00, -1.13803714e+00,\n",
       "        -8.29344620e-01, -6.08457034e-01, -6.94959929e-01]])"
      ]
     },
     "execution_count": 40,
     "metadata": {},
     "output_type": "execute_result"
    }
   ],
   "source": [
    "data[1]"
   ]
  },
  {
   "cell_type": "code",
   "execution_count": 45,
   "metadata": {},
   "outputs": [
    {
     "name": "stdout",
     "output_type": "stream",
     "text": [
      "(1001, 1, 1, 72)\n",
      "(1001, 72)\n"
     ]
    }
   ],
   "source": [
    "#start = []\n",
    "#for i in range():\n",
    "#    x_rand = random.uniform(0, 1)\n",
    "#    y_rand = random.uniform(0, 68/105)\n",
    "#    start.append(x_rand)\n",
    "#    start.append(y_rand)\n",
    "    \n",
    "start = data[1]\n",
    "start = np.array(start)\n",
    "start = np.reshape(start, (1, 1, 72))\n",
    "\n",
    "jogo_simulado = [start]\n",
    "next_step = start\n",
    "for i in range(1000):\n",
    "    next_step = model.predict(next_step)\n",
    "    jogo_simulado.append(next_step)\n",
    "\n",
    "jogo_simulado = np.array(jogo_simulado)\n",
    "print(jogo_simulado.shape)  \n",
    "jogo_simulado = np.reshape(jogo_simulado, (1001, 72))\n",
    "print(jogo_simulado.shape)  "
   ]
  },
  {
   "cell_type": "code",
   "execution_count": 48,
   "metadata": {},
   "outputs": [
    {
     "data": {
      "text/plain": [
       "143.57184141330643"
      ]
     },
     "execution_count": 48,
     "metadata": {},
     "output_type": "execute_result"
    }
   ],
   "source": [
    "np.max(jogo_simulado)"
   ]
  },
  {
   "cell_type": "code",
   "execution_count": 47,
   "metadata": {},
   "outputs": [],
   "source": [
    "np.savetxt('jogo_simulado.txt', jogo_simulado, delimiter=',')"
   ]
  },
  {
   "cell_type": "code",
   "execution_count": 49,
   "metadata": {},
   "outputs": [
    {
     "data": {
      "text/plain": [
       "-28.409599820115595"
      ]
     },
     "execution_count": 49,
     "metadata": {},
     "output_type": "execute_result"
    }
   ],
   "source": [
    "np.min(jogo_simulado)"
   ]
  },
  {
   "cell_type": "code",
   "execution_count": 46,
   "metadata": {},
   "outputs": [],
   "source": [
    "jogo_simulado = (jogo_simulado * std_of_Data) + mean_of_Data"
   ]
  },
  {
   "cell_type": "code",
   "execution_count": null,
   "metadata": {},
   "outputs": [],
   "source": []
  }
 ],
 "metadata": {
  "kernelspec": {
   "display_name": "Python 3",
   "language": "python",
   "name": "python3"
  },
  "language_info": {
   "codemirror_mode": {
    "name": "ipython",
    "version": 3
   },
   "file_extension": ".py",
   "mimetype": "text/x-python",
   "name": "python",
   "nbconvert_exporter": "python",
   "pygments_lexer": "ipython3",
   "version": "3.7.3"
  }
 },
 "nbformat": 4,
 "nbformat_minor": 2
}
